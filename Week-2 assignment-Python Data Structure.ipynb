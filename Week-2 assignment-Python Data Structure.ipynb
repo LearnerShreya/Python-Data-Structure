{
 "cells": [
  {
   "cell_type": "markdown",
   "id": "113f72e4",
   "metadata": {},
   "source": [
    "# Week - 2\n",
    "# Assignment 1"
   ]
  },
  {
   "cell_type": "markdown",
   "id": "c6c92d9f",
   "metadata": {},
   "source": [
    "## Q1. How do you comment code in Python? What are the different types of comments?\n",
    "### Ans"
   ]
  },
  {
   "cell_type": "markdown",
   "id": "79a30836",
   "metadata": {},
   "source": [
    "Comments are used to add explanations or notes within code. They are not executed as part of the program and are ignored by the Python interpreter. Python supports two main types of comments:\n",
    "\n",
    "- **Single-Line Comments:** To create a single-line comment in Python, we can use the **#** symbol. Anything following the **#** symbol on the same line is considered a comment."
   ]
  },
  {
   "cell_type": "code",
   "execution_count": 54,
   "id": "38b3644a",
   "metadata": {},
   "outputs": [
    {
     "name": "stdout",
     "output_type": "stream",
     "text": [
      "Hello, World\n"
     ]
    }
   ],
   "source": [
    "# This is a single-line comment\n",
    "print(\"Hello, World\")  # This is another comment"
   ]
  },
  {
   "cell_type": "markdown",
   "id": "336d9e10",
   "metadata": {},
   "source": [
    "- **Multi-Line Comments (or docstrings) :** Python does not have a built-in syntax for multi-line comments like some other programming languages. However, we can create multi-line comments using triple-quoted strings (either **' ' '** or **\" \" \"**). These strings are typically used for documentation (docstrings), but they can also serve as multi-line comments."
   ]
  },
  {
   "cell_type": "code",
   "execution_count": 55,
   "id": "caf08748",
   "metadata": {},
   "outputs": [
    {
     "name": "stdout",
     "output_type": "stream",
     "text": [
      "Hello, World\n"
     ]
    }
   ],
   "source": [
    "'''\n",
    "This is a multi-line comment.\n",
    "It spans multiple lines.\n",
    "'''\n",
    "\"\"\"\n",
    "Another multi-line comment.\n",
    "This is also a valid way to create multi-line comments.\n",
    "\"\"\"\n",
    "print(\"Hello, World\")"
   ]
  },
  {
   "cell_type": "markdown",
   "id": "54053bec",
   "metadata": {},
   "source": [
    "**Note:** multi-line comments using triple-quoted strings are not actual comments; they are treated as string literals and will be stored in memory, although they are not assigned to any variable and don't have any impact on program execution.\n",
    "\n",
    "In practice, developers often use single-line comments for short explanations and triple-quoted strings for longer comments or documentation. For more extensive documentation, tools like Sphinx or Jupyter Notebook are used to create well-structured documentation in Python code."
   ]
  },
  {
   "cell_type": "markdown",
   "id": "12f02135",
   "metadata": {},
   "source": [
    "## Q2. What are variables in Python? How do you declare and assign values to variables?\n",
    "### Ans\n",
    "### Variable has two meanings :\n",
    "1) It is an entity whose value can change\n",
    "2) It is a name given to a location in memory\n",
    "\n",
    "### Variable Declaration:\n",
    "1. Variable names must start with a letter (**either lowercase or uppercase**) or an underscore (**_**).\n",
    "2. After the initial character, variable names can consist of letters (both lowercase and uppercase), digits (0-9), or underscores.\n",
    "3. Variable names are case-sensitive. This means that names with different letter casing are treated as different variables. For example, **myVariable** and **myvariable** are considered distinct variables.\n",
    "4. Python has some reserved keywords that cannot be used as variable names because they have special meanings in the language. You should avoid using these reserved words as variable names. Some examples of reserved words in Python include **if**, **else**, **for**, **while**, **import**, and **class**, among others.\n",
    "5. Name shouls be descriptive and meaningful for variables to enhance the readability of code. Variable names should convey the purpose or content of the variable.\n",
    "6. Use underscores (**_**) as **commas and blanks** are not allowed to separate words in variable names to improve readability. This is known as snake_case. For example, **my_variable_name** is a more readable choice than **myvariablename**.\n",
    "### Assigning values to variables"
   ]
  },
  {
   "cell_type": "code",
   "execution_count": 56,
   "id": "88db2504",
   "metadata": {},
   "outputs": [],
   "source": [
    "# Variable declaration and assigning it an integer value\n",
    "my_integer_variable = 5\n",
    "\n",
    "# Variable declaration and assigning it a string value\n",
    "my_string_variable = \"Hello, world!\"\n",
    "\n",
    "# Variable declaration and assigning it a list value\n",
    "my_list_variable = [1, 2, 3, 4, 5]\n",
    "\n",
    "# Variable declaration and assigning it a dictionary value\n",
    "my_dictionary_variable = {\"name\": \"Bard\", \"age\": 1}\n",
    "\n",
    "# Assigns 1 to 'a', 2 to 'b', and 3 to 'c'\n",
    "a, b, c = 1, 2, 3  "
   ]
  },
  {
   "cell_type": "markdown",
   "id": "074feab1",
   "metadata": {},
   "source": [
    "## Q3. How do you convert one data type to another in Python?\n",
    "### Ans\n",
    "One data type to another can be converted using a process called **\"type casting\"** or **\"data type conversion.\"** This is often necessary when we want to perform operations or comparisons between values of different data types or when we need a specific data type for a particular task. Python provides several built-in functions for type casting. Here are some common type conversions:\n",
    "\n",
    "1. Integer to Float: float()\n",
    "2. Float to Integer: int()\n",
    "3. Integer to String: str()\n",
    "4. Float to String: str()\n",
    "5. String to Integer: int()\n",
    "6. String to Float: float()\n",
    "7. List to Tuple: tuple()\n",
    "8. List to Set: set()\n",
    "9. Boolean Conversion: bool()\n",
    "10. List of Tuples to Dictionary: dict()"
   ]
  },
  {
   "cell_type": "code",
   "execution_count": 57,
   "id": "27f349a7",
   "metadata": {},
   "outputs": [
    {
     "name": "stdout",
     "output_type": "stream",
     "text": [
      "Integer to float: 42 => 42.0\n",
      "Float to integer: 3.14 => 3\n",
      "Integer to string: 42 => '42'\n",
      "Float to string: 3.14 => '3.14'\n",
      "String to integer: '42' => 42\n",
      "String to float: '3.14' => 3.14\n",
      "List to tuple: [1, 2, 3] => (1, 2, 3)\n",
      "List to set: [1, 2, 3] => {1, 2, 3}\n",
      "Boolean conversion (True): 42 => True\n",
      "Boolean conversion (False): '' => False\n",
      "List of tuples to dictionary: [('name', 'Alice'), ('age', 30)] => {'name': 'Alice', 'age': 30}\n"
     ]
    }
   ],
   "source": [
    "# Convert various data types\n",
    "\n",
    "# Integer to float\n",
    "num_int = 42\n",
    "float_num = float(num_int)\n",
    "print(f\"Integer to float: {num_int} => {float_num}\")\n",
    "\n",
    "# Float to integer\n",
    "float_num = 3.14\n",
    "int_num = int(float_num)\n",
    "print(f\"Float to integer: {float_num} => {int_num}\")\n",
    "\n",
    "# Integer to string\n",
    "num_int = 42\n",
    "num_str = str(num_int)\n",
    "print(f\"Integer to string: {num_int} => '{num_str}'\")\n",
    "\n",
    "# Float to string\n",
    "float_num = 3.14\n",
    "float_str = str(float_num)\n",
    "print(f\"Float to string: {float_num} => '{float_str}'\")\n",
    "\n",
    "# String to integer\n",
    "num_str = \"42\"\n",
    "num_int = int(num_str)\n",
    "print(f\"String to integer: '{num_str}' => {num_int}\")\n",
    "\n",
    "# String to float\n",
    "float_str = \"3.14\"\n",
    "float_num = float(float_str)\n",
    "print(f\"String to float: '{float_str}' => {float_num}\")\n",
    "\n",
    "# List to tuple\n",
    "my_list = [1, 2, 3]\n",
    "my_tuple = tuple(my_list)\n",
    "print(f\"List to tuple: {my_list} => {my_tuple}\")\n",
    "\n",
    "# List to set\n",
    "my_set = set(my_list)\n",
    "print(f\"List to set: {my_list} => {my_set}\")\n",
    "\n",
    "# Boolean conversion\n",
    "num = 42\n",
    "is_true = bool(num)\n",
    "print(f\"Boolean conversion (True): {num} => {is_true}\")\n",
    "\n",
    "empty_string = \"\"\n",
    "is_false = bool(empty_string)\n",
    "print(f\"Boolean conversion (False): '{empty_string}' => {is_false}\")\n",
    "\n",
    "# Dictionary conversion\n",
    "key_value_pairs = [(\"name\", \"Alice\"), (\"age\", 30)]\n",
    "person_dict = dict(key_value_pairs)\n",
    "print(f\"List of tuples to dictionary: {key_value_pairs} => {person_dict}\")\n"
   ]
  },
  {
   "cell_type": "markdown",
   "id": "02068394",
   "metadata": {},
   "source": [
    "## Q4. How do you write and execute a Python script from the command line?\n",
    "### Ans"
   ]
  },
  {
   "cell_type": "markdown",
   "id": "4c3487bc",
   "metadata": {},
   "source": [
    "#### 1. Writing Python Code:\n",
    "- Open a text editor or code editor of your choice.\n",
    "- Write your Python code in the editor. You can create a new Python script or edit an existing one.\n",
    "#### 2. Saving the Python Script:\n",
    "- Save the script with a .py extension. For example, you can save it as \"hello.py.\" Make sure that the file extension is .py to indicate that it's a Python script.\n",
    "#### 3. Running the Python Script:\n",
    "- Open your command-line interface (e.g., Command Prompt on Windows, Terminal on macOS or Linux).\n",
    "- Navigate to the directory where your Python script is located. You can use the cd command to change directories\n",
    "\n",
    "###### cd /path/to/your/script/directory\n",
    "- To execute your Python script, use the python command followed by the script's filename:\n",
    "###### python hello.py\n",
    "- If you have multiple versions of Python installed, you may need to specify the version you want to use. For example, if you have both Python 2 and Python 3, you can run your script with Python 3 using:\n",
    "###### python3 hello.py\n",
    "- If your Python script has a graphical user interface (GUI) and you want to execute it, you might not see any output in the command line because the GUI will launch separately."
   ]
  },
  {
   "cell_type": "markdown",
   "id": "e4daef56",
   "metadata": {},
   "source": [
    "## Q5. Given a list my_list = [1, 2, 3, 4, 5], write the code to slice the list and obtain the sub-list [2, 3].\n",
    "### Ans"
   ]
  },
  {
   "cell_type": "code",
   "execution_count": 58,
   "id": "a9523ed8",
   "metadata": {},
   "outputs": [
    {
     "data": {
      "text/plain": [
       "[2, 3]"
      ]
     },
     "execution_count": 58,
     "metadata": {},
     "output_type": "execute_result"
    }
   ],
   "source": [
    "my_list = [1, 2, 3, 4, 5]\n",
    "my_list[1:3]"
   ]
  },
  {
   "cell_type": "code",
   "execution_count": 59,
   "id": "2ff85d42",
   "metadata": {},
   "outputs": [
    {
     "name": "stdout",
     "output_type": "stream",
     "text": [
      "[2, 3]\n"
     ]
    }
   ],
   "source": [
    "my_list = [1, 2, 3, 4, 5]\n",
    "sub_list = my_list[1:3]  # Slice from index 1 (inclusive) to index 3 (exclusive)\n",
    "print(sub_list)"
   ]
  },
  {
   "cell_type": "markdown",
   "id": "f444314f",
   "metadata": {},
   "source": [
    "## Q6. What is a complex number in mathematics, and how is it represented in Python?\n",
    "### Ans"
   ]
  },
  {
   "cell_type": "markdown",
   "id": "5126fbff",
   "metadata": {},
   "source": [
    "- A complex number in mathematics is a number of the form a+ib, where a and b are real numbers and i is the imaginary unit, defined as i^2 = −1. Complex numbers can be used to represent a wide variety of mathematical concepts, including vectors, matrices, and waves.\n",
    "\n",
    "- In Python, complex numbers can be represented using the complex() function. \n",
    "- In Python, complex numbers are represented using the \"j\" suffix for the imaginary part. "
   ]
  },
  {
   "cell_type": "code",
   "execution_count": 60,
   "id": "488b669c",
   "metadata": {},
   "outputs": [
    {
     "name": "stdout",
     "output_type": "stream",
     "text": [
      "2.0 3.0\n",
      "(3+7j)\n",
      "(1-1j)\n",
      "(-10+11j)\n",
      "(0.8235294117647058-0.29411764705882354j)\n"
     ]
    }
   ],
   "source": [
    "# Here's how to create and work with complex numbers in Python:\n",
    "# Create a complex number\n",
    "z = complex(2, 3)\n",
    "\n",
    "# Print the real and imaginary parts of the complex number\n",
    "print(z.real, z.imag)\n",
    "\n",
    "w = complex(1, 4)\n",
    "\n",
    "# Add two complex number\n",
    "print(z + w)\n",
    "\n",
    "# Subtract two complex numbers\n",
    "print(z - w)\n",
    "\n",
    "# Multiply two complex numbers\n",
    "print(z * w)\n",
    "\n",
    "# Divide two complex numbers\n",
    "print(z / w)"
   ]
  },
  {
   "cell_type": "markdown",
   "id": "84c92920",
   "metadata": {},
   "source": [
    "## Q7. What is the correct way to declare a variable named age and assign the value 25 to it?\n",
    "### Ans"
   ]
  },
  {
   "cell_type": "code",
   "execution_count": 61,
   "id": "88761fc5",
   "metadata": {},
   "outputs": [],
   "source": [
    "age = 25\n",
    "# Python uses a straightforward syntax for variable declaration and assignment, \n",
    "# where we don't need to specify the variable's data type explicitly; \n",
    "# Python infers it based on the assigned value."
   ]
  },
  {
   "cell_type": "markdown",
   "id": "be77ee3e",
   "metadata": {},
   "source": [
    "## Q8. Declare a variable named price and assign the value 9.99 to it. What data type does this variable belong to?\n",
    "### Ans"
   ]
  },
  {
   "cell_type": "code",
   "execution_count": 62,
   "id": "2f19d029",
   "metadata": {},
   "outputs": [
    {
     "data": {
      "text/plain": [
       "float"
      ]
     },
     "execution_count": 62,
     "metadata": {},
     "output_type": "execute_result"
    }
   ],
   "source": [
    "price = 9.99\n",
    "type(price)\n",
    "# The data type of the variable price in this case is a float. \n",
    "# A float is a data type used to represent numbers with decimal points or fractions. \n",
    "# In this example, 9.99 is a floating-point number, and therefore, the variable price is of type float."
   ]
  },
  {
   "cell_type": "markdown",
   "id": "27e6138e",
   "metadata": {},
   "source": [
    "## Q9. Create a variable named name and assign your full name to it as a string. How would you print the value of this variable?\n",
    "### Ans"
   ]
  },
  {
   "cell_type": "code",
   "execution_count": 63,
   "id": "6d0fa8c7",
   "metadata": {},
   "outputs": [
    {
     "name": "stdout",
     "output_type": "stream",
     "text": [
      "Shreya Singh\n"
     ]
    }
   ],
   "source": [
    "name = \"Shreya Singh\"\n",
    "print(name)"
   ]
  },
  {
   "cell_type": "markdown",
   "id": "315fc93e",
   "metadata": {},
   "source": [
    "## Q10. Given the string \"Hello, World!\", extract the substring \"World\".\n",
    "### Ans"
   ]
  },
  {
   "cell_type": "code",
   "execution_count": 64,
   "id": "0250c1c2",
   "metadata": {},
   "outputs": [
    {
     "name": "stdout",
     "output_type": "stream",
     "text": [
      "World!\n"
     ]
    }
   ],
   "source": [
    "original_string = \"Hello, World!\"\n",
    "substring = original_string[7:]\n",
    "print(substring)"
   ]
  },
  {
   "cell_type": "markdown",
   "id": "1b37792d",
   "metadata": {},
   "source": [
    "## Q11. Create a variable named \"is_student\" and assign it a boolean value indicating whether you are currently a student or not."
   ]
  },
  {
   "cell_type": "code",
   "execution_count": 65,
   "id": "049332e7",
   "metadata": {},
   "outputs": [],
   "source": [
    "is_student = True  # If you are currently a student\n",
    "# OR\n",
    "is_student = False  # If you are not currently a student"
   ]
  },
  {
   "cell_type": "code",
   "execution_count": 66,
   "id": "19e9849f",
   "metadata": {},
   "outputs": [
    {
     "name": "stdout",
     "output_type": "stream",
     "text": [
      "Yes, you are currently a student.\n"
     ]
    }
   ],
   "source": [
    "is_student = True\n",
    "\n",
    "if is_student:\n",
    "    print(\"Yes, you are currently a student.\")\n",
    "else:\n",
    "    print(\"No, you are not currently a student.\")"
   ]
  },
  {
   "cell_type": "code",
   "execution_count": 67,
   "id": "c1de5c97",
   "metadata": {},
   "outputs": [
    {
     "name": "stdout",
     "output_type": "stream",
     "text": [
      "No, you are not currently a student.\n"
     ]
    }
   ],
   "source": [
    "is_student = False\n",
    "\n",
    "if is_student:\n",
    "    print(\"Yes, you are currently a student.\")\n",
    "else:\n",
    "    print(\"No, you are not currently a student.\")"
   ]
  },
  {
   "cell_type": "code",
   "execution_count": 70,
   "id": "a0b19d35",
   "metadata": {},
   "outputs": [
    {
     "name": "stdout",
     "output_type": "stream",
     "text": [
      "Enter your status: false\n",
      "No, you are not currently a student.\n"
     ]
    }
   ],
   "source": [
    "is_student = input(\"Enter your status: \")\n",
    "\n",
    "# Check if the input is \"True\" (as a string) and convert it to a boolean\n",
    "if is_student.lower() == \"true\":\n",
    "    print(\"Yes, you are currently a student.\")\n",
    "else:\n",
    "    print(\"No, you are not currently a student.\")\n"
   ]
  }
 ],
 "metadata": {
  "kernelspec": {
   "display_name": "Python 3 (ipykernel)",
   "language": "python",
   "name": "python3"
  },
  "language_info": {
   "codemirror_mode": {
    "name": "ipython",
    "version": 3
   },
   "file_extension": ".py",
   "mimetype": "text/x-python",
   "name": "python",
   "nbconvert_exporter": "python",
   "pygments_lexer": "ipython3",
   "version": "3.11.4"
  }
 },
 "nbformat": 4,
 "nbformat_minor": 5
}
